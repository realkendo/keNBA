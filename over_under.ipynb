{
 "cells": [
  {
   "cell_type": "code",
   "execution_count": 10,
   "metadata": {},
   "outputs": [
    {
     "ename": "TypeError",
     "evalue": "WebDriver.__init__() got an unexpected keyword argument 'executable_path'",
     "output_type": "error",
     "traceback": [
      "\u001b[1;31m---------------------------------------------------------------------------\u001b[0m",
      "\u001b[1;31mTypeError\u001b[0m                                 Traceback (most recent call last)",
      "Cell \u001b[1;32mIn[10], line 7\u001b[0m\n\u001b[0;32m      4\u001b[0m \u001b[38;5;28;01mimport\u001b[39;00m \u001b[38;5;21;01mtime\u001b[39;00m\n\u001b[0;32m      6\u001b[0m \u001b[38;5;66;03m# Set up the WebDriver (use the path to your driver)\u001b[39;00m\n\u001b[1;32m----> 7\u001b[0m driver \u001b[38;5;241m=\u001b[39m \u001b[43mwebdriver\u001b[49m\u001b[38;5;241;43m.\u001b[39;49m\u001b[43mChrome\u001b[49m\u001b[43m(\u001b[49m\u001b[43mexecutable_path\u001b[49m\u001b[38;5;241;43m=\u001b[39;49m\u001b[38;5;124;43m'\u001b[39;49m\u001b[38;5;124;43mC:/chrome-win64\u001b[39;49m\u001b[38;5;124;43m'\u001b[39;49m\u001b[43m)\u001b[49m\n\u001b[0;32m      9\u001b[0m \u001b[38;5;66;03m# URL for the 2025 NBA season game results\u001b[39;00m\n\u001b[0;32m     10\u001b[0m url \u001b[38;5;241m=\u001b[39m \u001b[38;5;124m'\u001b[39m\u001b[38;5;124mhttps://www.basketball-reference.com/leagues/NBA_2025_games.html\u001b[39m\u001b[38;5;124m'\u001b[39m\n",
      "\u001b[1;31mTypeError\u001b[0m: WebDriver.__init__() got an unexpected keyword argument 'executable_path'"
     ]
    }
   ],
   "source": [
    "from selenium import webdriver\n",
    "from selenium.webdriver.common.by import By\n",
    "import pandas as pd\n",
    "import time\n",
    "\n",
    "# Set up the WebDriver (use the path to your driver)\n",
    "driver = webdriver.Chrome(executable_path='C:/chrome-win64')\n",
    "\n",
    "\n",
    "# Open a website\n",
    "driver.get(\"https://www.google.com\")\n",
    "\n",
    "# Close the browser\n",
    "driver.quit()\n",
    "\n",
    "# # URL for the 2025 NBA season game results\n",
    "# url = 'https://www.basketball-reference.com/leagues/NBA_2025_games.html'\n",
    "\n",
    "# # Open the webpage\n",
    "# driver.get(url)\n",
    "\n",
    "# # Wait for the page to load completely (adjust the time if needed)\n",
    "# time.sleep(5)\n",
    "\n",
    "# # Find the table containing the game results\n",
    "# table = driver.find_element(By.CLASS_NAME, 'sortable.stats_table')\n",
    "\n",
    "# # Extract the table headers\n",
    "# headers = [th.text.strip() for th in table.find_elements(By.TAG_NAME, 'th')]\n",
    "\n",
    "# # Extract all the rows in the table\n",
    "# rows = table.find_elements(By.TAG_NAME, 'tr')[1:]  # Skip the header row\n",
    "\n",
    "# # Extract data from each row\n",
    "# game_data = []\n",
    "# for row in rows:\n",
    "#     cols = row.find_elements(By.TAG_NAME, 'td')\n",
    "#     game_data.append([ele.text.strip() for ele in cols])\n",
    "\n",
    "# # Create a DataFrame from the extracted data\n",
    "# df = pd.DataFrame(game_data, columns=headers[1:])  # Skip first column 'Rk'\n",
    "\n",
    "# # Clean up the DataFrame (remove any empty rows or columns)\n",
    "# df = df.dropna()\n",
    "\n",
    "# # Close the browser after scraping\n",
    "# driver.quit()\n",
    "\n",
    "# # Display the DataFrame\n",
    "# print(df.head())\n"
   ]
  },
  {
   "cell_type": "code",
   "execution_count": null,
   "metadata": {},
   "outputs": [],
   "source": []
  }
 ],
 "metadata": {
  "kernelspec": {
   "display_name": "Python 3",
   "language": "python",
   "name": "python3"
  },
  "language_info": {
   "codemirror_mode": {
    "name": "ipython",
    "version": 3
   },
   "file_extension": ".py",
   "mimetype": "text/x-python",
   "name": "python",
   "nbconvert_exporter": "python",
   "pygments_lexer": "ipython3",
   "version": "3.12.6"
  }
 },
 "nbformat": 4,
 "nbformat_minor": 2
}
