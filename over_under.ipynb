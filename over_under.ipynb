{
 "cells": [
  {
   "cell_type": "code",
   "execution_count": null,
   "metadata": {},
   "outputs": [],
   "source": [
    "from selenium import webdriver\n",
    "from selenium.webdriver.common.by import By\n",
    "import pandas as pd\n",
    "import time\n",
    "from selenium.webdriver.chrome.service import Service\n",
    "\n",
    "\n",
    "# Set the path to your ChromeDriver\n",
    "service = Service(\"C:/Users/KENNETH/Downloads/chrome-win64/chrome.exe\")\n",
    "\n",
    "# Initialize the WebDriver\n",
    "driver = webdriver.Chrome(service=service)\n",
    "\n",
    "# URL for the 2025 NBA season game results\n",
    "url = 'https://www.basketball-reference.com/leagues/NBA_2025_games.html'\n",
    "\n",
    "# Open the webpage\n",
    "driver.get(url)\n",
    "\n",
    "# Wait for the page to load completely (adjust the time if needed)\n",
    "time.sleep(5)\n",
    "\n",
    "# Find the table containing the game results\n",
    "table = driver.find_element(By.CLASS_NAME, 'sortable.stats_table')\n",
    "\n",
    "# Extract the table headers\n",
    "headers = [th.text.strip() for th in table.find_elements(By.TAG_NAME, 'th')]\n",
    "\n",
    "# Extract all the rows in the table\n",
    "rows = table.find_elements(By.TAG_NAME, 'tr')[1:]  # Skip the header row\n",
    "\n",
    "# Extract data from each row\n",
    "game_data = []\n",
    "for row in rows:\n",
    "    cols = row.find_elements(By.TAG_NAME, 'td')\n",
    "    game_data.append([ele.text.strip() for ele in cols])\n",
    "\n",
    "# Create a DataFrame from the extracted data\n",
    "df = pd.DataFrame(game_data, columns=headers[1:])  # Skip first column 'Rk'\n",
    "\n",
    "# Clean up the DataFrame (remove any empty rows or columns)\n",
    "df = df.dropna()\n",
    "\n",
    "# Close the browser after scraping\n",
    "driver.quit()\n",
    "\n",
    "# Display the DataFrame\n",
    "print(df.head())\n"
   ]
  },
  {
   "cell_type": "code",
   "execution_count": null,
   "metadata": {},
   "outputs": [],
   "source": []
  }
 ],
 "metadata": {
  "kernelspec": {
   "display_name": "Python 3",
   "language": "python",
   "name": "python3"
  },
  "language_info": {
   "codemirror_mode": {
    "name": "ipython",
    "version": 3
   },
   "file_extension": ".py",
   "mimetype": "text/x-python",
   "name": "python",
   "nbconvert_exporter": "python",
   "pygments_lexer": "ipython3",
   "version": "3.12.6"
  }
 },
 "nbformat": 4,
 "nbformat_minor": 2
}
